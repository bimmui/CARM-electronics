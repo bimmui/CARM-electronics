{
 "cells": [
  {
   "cell_type": "markdown",
   "metadata": {},
   "source": [
    "# <center> Scallion Pancake Power and Current Budget </center>\n",
    "### <center> By Noah Stiegler and Daniel Opara </center>\n",
    "#### <center> Created Feburary 8, 2024 </center>\n",
    "#### <center> Updated March 24, 2024 </center>"
   ]
  },
  {
   "cell_type": "markdown",
   "metadata": {},
   "source": [
    "The notebook contains the calculations done to find the power budget and overall current draw of the PCB throughout the entirety of its flight on CARM."
   ]
  },
  {
   "cell_type": "code",
   "execution_count": 2,
   "metadata": {},
   "outputs": [],
   "source": [
    "import numpy as np\n",
    "import matplotlib.pyplot as plt\n",
    "import astropy.units as u"
   ]
  },
  {
   "cell_type": "code",
   "execution_count": null,
   "metadata": {},
   "outputs": [],
   "source": [
    "import seaborn as sns\n",
    "\n",
    "sns.set_theme(context='notebook', style='darkgrid', palette='colorblind',\n",
    "              font='sans-serif', font_scale=1, color_codes=True, rc=None)"
   ]
  },
  {
   "cell_type": "markdown",
   "metadata": {},
   "source": [
    "## Introduction: Why Bother?"
   ]
  },
  {
   "cell_type": "markdown",
   "metadata": {},
   "source": [
    "Calculating power and current draw is a crucial aspect of designing electronic systems as it serves many purposes to ensure optimal performance, safety, and financial expenditure. \n",
    "\n",
    "It aids in figuring out the efficiency of a circuit or device and is especially helpful for battery-operated devices or energy-sensitive applications. By understanding how much power a circuit consumes, we can select appropriate components such as power supplies, batteries, and voltage regulators, ensuring they can handle the load and operate reliably. This knowledge also helps in budgeting and planning for energy usage, which is essential for projects with power constraints or limited power sources. Furthermore, accurate calculations prevent overloading components, which can lead to overheating, failure, or safety hazards. In addition to all of this, compliance with power consumption or efficiency standards may be necessary for certain applications—in our case, there are various contraints we have on our PCB for Spaceport Amarica—making it imperative to calculate power and current draw to ensure adherence to these standards."
   ]
  },
  {
   "cell_type": "markdown",
   "metadata": {},
   "source": [
    "## System Overview"
   ]
  },
  {
   "cell_type": "markdown",
   "metadata": {},
   "source": [
    "The PCB consists of six main breakout boards/sub-components:\n",
    "- [Adafruit Feather M0 LoRa](https://learn.adafruit.com/adafruit-feather-m0-radio-with-lora-radio-module)\n",
    "- [Adafruit Ultimate GPS module](https://learn.adafruit.com/adafruit-ultimate-gps/overview)\n",
    "- [Micro SD Card Breakout Board](https://learn.adafruit.com/adafruit-micro-sd-breakout-board-card-tutorial/introduction)\n",
    "- [Adafruit LSM9DS1 (IMU)](https://learn.adafruit.com/adafruit-lsm9ds1-accelerometer-plus-gyro-plus-magnetometer-9-dof-breakout/)\n",
    "- [Adafruit BMP388 (Barometer)](https://learn.adafruit.com/adafruit-bmp388-bmp390-bmp3xx)\n",
    "- [Adafruit MCP9808 (Temp. sensor)](https://learn.adafruit.com/adafruit-mcp9808-precision-i2c-temperature-sensor-guide/overview)"
   ]
  },
  {
   "cell_type": "markdown",
   "metadata": {},
   "source": [
    "There are various other components that play into the power and current draw calculations, however, their impact is minimal so they are not used in our models."
   ]
  },
  {
   "cell_type": "markdown",
   "metadata": {},
   "source": [
    "For current draw"
   ]
  },
  {
   "cell_type": "code",
   "execution_count": 60,
   "metadata": {},
   "outputs": [],
   "source": [
    "# The board consists of six sub-boards, the GPS, SD card reader, Feather \n",
    "# transceier, IMU, Barometer, and Temp sensor\n",
    "# Here we build functions to model their power draw\n",
    "# I'll model the power draw as the current each daughter board is drawing\n",
    "# times the amount of time it's drawing that current, in mAh (milliamphours)\n",
    "# Because each board uses 3.3V, the energy it uses is just the current-time \n",
    "# multiplied by 3.3V. However, using amp hours is more useful for modeling \n",
    "# battery life, which is why we're using it here\n",
    "# I use astropy.units to make sure all the unit calculations are correct\n",
    "# and return as the correct units\n",
    "mAh = u.milliamp * u.hour"
   ]
  },
  {
   "cell_type": "code",
   "execution_count": null,
   "metadata": {},
   "outputs": [],
   "source": [
    "# Small helper function to check the input is of unit time\n",
    "def assert_time_unit(value):\n",
    "        try:\n",
    "                value.to(u.s)\n",
    "        except:\n",
    "                raise Exception(\"Parameter not a time unit\")"
   ]
  },
  {
   "cell_type": "code",
   "execution_count": 67,
   "metadata": {},
   "outputs": [
    {
     "name": "stdout",
     "output_type": "stream",
     "text": [
      "238.42499999999998 J\n"
     ]
    }
   ],
   "source": [
    "\n",
    "# GPS (SPI)\n",
    "#       Polled at 10hz\n",
    "#       3.3V @ 25mA (acquisition) & 20mA (tracking) - assume tracking (acquisition higher power is marginal)\n",
    "#       Source: https://cdn-shop.adafruit.com/product-files/746/CD+PA1616S+Datasheet.v03.pdf\n",
    "def GPS_energy(time, acquiringSat=False):\n",
    "        assert_time_unit(time)\n",
    "        current = 25 * u.milliamp if acquiringSat else 20 * u.milliamp\n",
    "        return (current * time).to(mAh)\n",
    "\n",
    "# For example, if we were going to acquire satellites for 10 seconds\n",
    "# then track for an hour, we would use\n",
    "energy = (GPS_energy(10 * u.s, acquiringSat=True) + GPS_energy(1 * u.hr)) * (3.3 * u.volt)\n",
    "energy = energy.to(u.Joule)\n",
    "print(energy)\n"
   ]
  },
  {
   "cell_type": "code",
   "execution_count": 69,
   "metadata": {},
   "outputs": [
    {
     "name": "stdout",
     "output_type": "stream",
     "text": [
      "1188.0 J\n"
     ]
    }
   ],
   "source": [
    "\n",
    "# SD Card Reader (SPI)\n",
    "#       3.3V @ 100mA (very rough average)\n",
    "#       Definitely 3.3V, but the card read/write will use way more current\n",
    "#       (up to 150mA) when actively writing data continuously, and probably\n",
    "#       a lot less if it's not, but that data isn't super available, so I'll\n",
    "#       just take 100mA as a baseline, which is probably a huge overestimate\n",
    "#       Source: https://cdn-learn.adafruit.com/downloads/pdf/adafruit-micro-sd-breakout-board-card-tutorial.pdf & an SD card page\n",
    "def SD_energy(time):\n",
    "        assert_time_unit(time)\n",
    "        return ((100 * u.milliamp) * time).to(mAh)\n",
    "\n",
    "# For example, if we were going to write data for an hour we would use\n",
    "energy = SD_energy(1 * u.hr) * (3.3 * u.volt)\n",
    "energy = energy.to(u.Joule)\n",
    "print(energy)\n"
   ]
  },
  {
   "cell_type": "code",
   "execution_count": 71,
   "metadata": {},
   "outputs": [
    {
     "name": "stdout",
     "output_type": "stream",
     "text": [
      "142.998075 J\n"
     ]
    }
   ],
   "source": [
    "\n",
    "# Feather Transceiver (SPI)\n",
    "#       3.3V @ 13mA when listening, 11mA when sleeping, \n",
    "#       and call the current draw 90mA at 13dBm + PA_BOOST (high radio power\n",
    "#       to get long range signal)\n",
    "#       source: https://cdn-shop.adafruit.com/product-files/3179/sx1276_77_78_79.pdf table 10 pg 19\n",
    "def transceiver_energy(time, mode=\"listen\"):\n",
    "        # Check input\n",
    "        assert_time_unit(time)\n",
    "        acceptable_modes = [\"listen\", \"sleep\", \"transmit\"]\n",
    "        assert(mode in acceptable_modes)\n",
    "\n",
    "        # Find the right current\n",
    "        if mode == acceptable_modes[0]: # Listen\n",
    "                current = 13 * u.milliamp\n",
    "        elif mode == acceptable_modes[1]: # Sleep\n",
    "                current = 11 * u.milliamp\n",
    "        elif mode == acceptable_modes[2]: # Transmit\n",
    "                current = 90 * u.milliamp\n",
    "        else:\n",
    "                raise Exception(\"Mode Error\")\n",
    "        \n",
    "        return (current * time).to(mAh)\n",
    "\n",
    "# Here I'll create a function which figures out how long the transceiver\n",
    "# will be transmitting to send a given amount of data\n",
    "def transmission_time(bits):\n",
    "        bitrate = 19200 * u.Hz # bits per second\n",
    "        return (bits / bitrate).to(u.s)\n",
    "\n",
    "# And here we'll see how much energy it takes to transmit a certain\n",
    "# amount of data in a certain amount of time, sleeping the radio \n",
    "# inbetween\n",
    "def energy_to_transmit(bits, time):\n",
    "        assert_time_unit(time)\n",
    "\n",
    "        # Figure out how long we need the transmitter on\n",
    "        time_transmitting = transmission_time(bits)\n",
    "\n",
    "        # Make sure we have enough time to transmit at our bitrate\n",
    "        assert(time_transmitting <= time)\n",
    "\n",
    "        # Figure out how much energy we need to transmit for that long\n",
    "        energy_on = transceiver_energy(time_transmitting, mode=\"transmit\")\n",
    "\n",
    "        # Figure out how much energy we use while sleeping and not transmitting\n",
    "        energy_sleep = transceiver_energy(time - time_transmitting, mode=\"sleep\")\n",
    "\n",
    "        return (energy_on + energy_sleep)\n",
    "\n",
    "\n",
    "# For example, if we were going to transmit 252 bits (one packet) per second\n",
    "# and sleep for the rest of the time for an hour on the launchpad that\n",
    "# would use\n",
    "bits_to_transmit = 252 * 60 * 60 # 252 bits per second, 60s/min, 60min/hr\n",
    "energy = energy_to_transmit(bits_to_transmit, 1 * u.hr) * (3.3 * u.volt)\n",
    "energy = energy.to(u.joule)\n",
    "print(energy)"
   ]
  },
  {
   "cell_type": "code",
   "execution_count": 72,
   "metadata": {},
   "outputs": [
    {
     "name": "stdout",
     "output_type": "stream",
     "text": [
      "51.083999999999996 J\n"
     ]
    }
   ],
   "source": [
    "\n",
    "# IMU (I2C)\n",
    "#       3.3V @ 4.3mA\n",
    "#       Source: https://www.st.com/resource/en/datasheet/lsm9ds1.pdf table 10 pg 20\n",
    "def IMU_energy(time):\n",
    "        assert_time_unit(time)\n",
    "        return ((4.3 * u.milliamp) * time).to(mAh)\n",
    "\n",
    "# For example, if we were going to power the IMU for an hour it would take\n",
    "energy = IMU_energy(1 * u.hr) * (3.3 * u.Volt)\n",
    "energy = energy.to(u.Joule)\n",
    "print(energy)"
   ]
  },
  {
   "cell_type": "code",
   "execution_count": 73,
   "metadata": {},
   "outputs": [
    {
     "name": "stdout",
     "output_type": "stream",
     "text": [
      "11.879999999999999 J\n"
     ]
    }
   ],
   "source": [
    "\n",
    "# Barometer (I2C)\n",
    "#       Polled at 50hz\n",
    "#       Takes 20uA @ 1Hz \n",
    "#       source: https://www.bosch-sensortec.com/media/boschsensortec/downloads/datasheets/bst-bmp388-ds001.pdf table 21 pg 26\n",
    "#       3.3V @ 1mA\n",
    "def barometer_energy(time):\n",
    "        assert_time_unit(time)\n",
    "        poll_rate = 50 * u.Hz\n",
    "        return ((20 * u.microamp / u.Hz) * poll_rate * time).to(mAh)\n",
    "\n",
    "# For example, if we were going to have the barometer polling for an hour\n",
    "# it would take\n",
    "energy = barometer_energy(1 * u.hr) * (3.3 * u.Volt)\n",
    "energy = energy.to(u.Joule)\n",
    "print(energy)"
   ]
  },
  {
   "cell_type": "code",
   "execution_count": 74,
   "metadata": {},
   "outputs": [
    {
     "name": "stdout",
     "output_type": "stream",
     "text": [
      "2.3760000000000003 J\n"
     ]
    }
   ],
   "source": [
    "\n",
    "# Temperature Sensor (I2C) & its amplifier\n",
    "#       3.3V @ 200uA\n",
    "#       Source: https://cdn-learn.adafruit.com/downloads/pdf/adafruit-mcp9808-precision-i2c-temperature-sensor-guide.pdf\n",
    "def temp_energy(time):\n",
    "        assert_time_unit(time)\n",
    "        return ((200 * u.microamp) * time).to(mAh)\n",
    "\n",
    "# For example, if we were going to run the temperature sensor for an hour it\n",
    "# would take\n",
    "energy = temp_energy(1 * u.hr) * (3.3 * u.Volt)\n",
    "energy = energy.to(u.Joule)\n",
    "print(energy)"
   ]
  },
  {
   "cell_type": "code",
   "execution_count": 59,
   "metadata": {},
   "outputs": [],
   "source": [
    "# Let's simulate three phases: launchpad, flight, and recovery\n",
    "# I'll get the current-time draw at each phase\n",
    "# The energy can be calculated by multiplying by 3.3V\n",
    "\n",
    "# On the launchpad, the sensors are powered on and logging data, but only\n",
    "# transmitting every second. We also need to do any setup. We'll be on the\n",
    "# launchpad for an hour\n",
    "energy_from_setup = (GPS_energy(10 * u.s, acquiringSat=True) + # GPS finds satellites\n",
    "                     GPS_energy(1 * u.hr - 10 * u.s) + # Gps tracks\n",
    "                     SD_energy(1 * u.hr) + # SD card writes - SUPER rough approximation\n",
    "                     ).to(kWh)\n",
    "### TODO HERE -- NOT DONE\n",
    "\n",
    "# During flight, the sensors are powered on and transmitting at 30 hz\n",
    "# In recovery, the sensors are powered on and transmitting at 1 hz again\n"
   ]
  },
  {
   "cell_type": "code",
   "execution_count": null,
   "metadata": {},
   "outputs": [],
   "source": []
  }
 ],
 "metadata": {
  "kernelspec": {
   "display_name": "carm",
   "language": "python",
   "name": "python3"
  },
  "language_info": {
   "codemirror_mode": {
    "name": "ipython",
    "version": 3
   },
   "file_extension": ".py",
   "mimetype": "text/x-python",
   "name": "python",
   "nbconvert_exporter": "python",
   "pygments_lexer": "ipython3",
   "version": "3.10.13"
  }
 },
 "nbformat": 4,
 "nbformat_minor": 2
}
